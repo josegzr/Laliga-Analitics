{
 "cells": [
  {
   "cell_type": "code",
   "execution_count": 1,
   "id": "c9696087",
   "metadata": {},
   "outputs": [],
   "source": [
    "import pandas as pd"
   ]
  },
  {
   "cell_type": "code",
   "execution_count": 11,
   "id": "827f1a18",
   "metadata": {},
   "outputs": [],
   "source": [
    "resultados = pd.read_csv('../datos/resultados.csv')"
   ]
  },
  {
   "cell_type": "code",
   "execution_count": 12,
   "id": "1699f88f",
   "metadata": {},
   "outputs": [],
   "source": [
    "jugadores = pd.read_csv('../datos/jugadores.csv')"
   ]
  },
  {
   "cell_type": "code",
   "execution_count": 13,
   "id": "98189350",
   "metadata": {},
   "outputs": [],
   "source": [
    "clasificacion=pd.read_csv('../datos/clasificacion.csv')"
   ]
  },
  {
   "cell_type": "code",
   "execution_count": null,
   "id": "1116dfea",
   "metadata": {},
   "outputs": [],
   "source": []
  }
 ],
 "metadata": {
  "kernelspec": {
   "display_name": "Python 3 (ipykernel)",
   "language": "python",
   "name": "python3"
  },
  "language_info": {
   "codemirror_mode": {
    "name": "ipython",
    "version": 3
   },
   "file_extension": ".py",
   "mimetype": "text/x-python",
   "name": "python",
   "nbconvert_exporter": "python",
   "pygments_lexer": "ipython3",
   "version": "3.11.5"
  }
 },
 "nbformat": 4,
 "nbformat_minor": 5
}
