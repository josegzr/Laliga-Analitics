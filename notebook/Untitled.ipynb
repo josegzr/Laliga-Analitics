{
 "cells": [
  {
   "cell_type": "code",
   "execution_count": 1,
   "id": "1a25be89",
   "metadata": {},
   "outputs": [],
   "source": [
    "import pandas as pd"
   ]
  },
  {
   "cell_type": "code",
   "execution_count": 2,
   "id": "5b18e0cc",
   "metadata": {},
   "outputs": [],
   "source": [
    "resultados = pd.read_csv('../datos/resultados.csv')"
   ]
  },
  {
   "cell_type": "code",
   "execution_count": 3,
   "id": "dcac484a",
   "metadata": {},
   "outputs": [],
   "source": [
    "clasificacion=pd.read_csv('../datos/clasificacion.csv')\n"
   ]
  },
  {
   "cell_type": "code",
   "execution_count": 4,
   "id": "05384bbf",
   "metadata": {},
   "outputs": [],
   "source": [
    "jugadores = pd.read_csv('../datos/jugadores.csv')"
   ]
  },
  {
   "cell_type": "code",
   "execution_count": 8,
   "id": "2fe52c76",
   "metadata": {},
   "outputs": [
    {
     "data": {
      "text/html": [
       "<div>\n",
       "<style scoped>\n",
       "    .dataframe tbody tr th:only-of-type {\n",
       "        vertical-align: middle;\n",
       "    }\n",
       "\n",
       "    .dataframe tbody tr th {\n",
       "        vertical-align: top;\n",
       "    }\n",
       "\n",
       "    .dataframe thead th {\n",
       "        text-align: right;\n",
       "    }\n",
       "</style>\n",
       "<table border=\"1\" class=\"dataframe\">\n",
       "  <thead>\n",
       "    <tr style=\"text-align: right;\">\n",
       "      <th></th>\n",
       "      <th>ID_partido</th>\n",
       "      <th>Jornada</th>\n",
       "      <th>fecha</th>\n",
       "      <th>Equipo_local</th>\n",
       "      <th>ID_equipo_local</th>\n",
       "      <th>Goles_del_Equipo_Local</th>\n",
       "      <th>Equipo_visitante</th>\n",
       "      <th>ID_equipo_visitante</th>\n",
       "      <th>Goles_del_Equipo_Visitante</th>\n",
       "      <th>Resultado_Local</th>\n",
       "      <th>Resultado_Visitante</th>\n",
       "    </tr>\n",
       "  </thead>\n",
       "  <tbody>\n",
       "    <tr>\n",
       "      <th>0</th>\n",
       "      <td>1</td>\n",
       "      <td>1</td>\n",
       "      <td>2022-08-12</td>\n",
       "      <td>Osasuna</td>\n",
       "      <td>7</td>\n",
       "      <td>2</td>\n",
       "      <td>Sevilla</td>\n",
       "      <td>12</td>\n",
       "      <td>1</td>\n",
       "      <td>Ganado</td>\n",
       "      <td>Perdido</td>\n",
       "    </tr>\n",
       "    <tr>\n",
       "      <th>1</th>\n",
       "      <td>2</td>\n",
       "      <td>1</td>\n",
       "      <td>2022-08-13</td>\n",
       "      <td>Celta De Vigo</td>\n",
       "      <td>13</td>\n",
       "      <td>2</td>\n",
       "      <td>Espanyol</td>\n",
       "      <td>19</td>\n",
       "      <td>2</td>\n",
       "      <td>Empate</td>\n",
       "      <td>Empate</td>\n",
       "    </tr>\n",
       "    <tr>\n",
       "      <th>2</th>\n",
       "      <td>3</td>\n",
       "      <td>1</td>\n",
       "      <td>2022-08-13</td>\n",
       "      <td>Real Valladolid</td>\n",
       "      <td>18</td>\n",
       "      <td>0</td>\n",
       "      <td>Villarreal</td>\n",
       "      <td>5</td>\n",
       "      <td>3</td>\n",
       "      <td>Perdido</td>\n",
       "      <td>Ganado</td>\n",
       "    </tr>\n",
       "    <tr>\n",
       "      <th>3</th>\n",
       "      <td>4</td>\n",
       "      <td>1</td>\n",
       "      <td>2022-08-13</td>\n",
       "      <td>Barcelona</td>\n",
       "      <td>1</td>\n",
       "      <td>0</td>\n",
       "      <td>Rayo Vallecano</td>\n",
       "      <td>11</td>\n",
       "      <td>0</td>\n",
       "      <td>Empate</td>\n",
       "      <td>Empate</td>\n",
       "    </tr>\n",
       "    <tr>\n",
       "      <th>4</th>\n",
       "      <td>5</td>\n",
       "      <td>1</td>\n",
       "      <td>2022-08-14</td>\n",
       "      <td>Cadiz</td>\n",
       "      <td>14</td>\n",
       "      <td>0</td>\n",
       "      <td>Real Sociedad</td>\n",
       "      <td>4</td>\n",
       "      <td>1</td>\n",
       "      <td>Perdido</td>\n",
       "      <td>Ganado</td>\n",
       "    </tr>\n",
       "  </tbody>\n",
       "</table>\n",
       "</div>"
      ],
      "text/plain": [
       "   ID_partido  Jornada       fecha     Equipo_local  ID_equipo_local  \\\n",
       "0           1        1  2022-08-12          Osasuna                7   \n",
       "1           2        1  2022-08-13    Celta De Vigo               13   \n",
       "2           3        1  2022-08-13  Real Valladolid               18   \n",
       "3           4        1  2022-08-13        Barcelona                1   \n",
       "4           5        1  2022-08-14            Cadiz               14   \n",
       "\n",
       "   Goles_del_Equipo_Local Equipo_visitante  ID_equipo_visitante  \\\n",
       "0                       2          Sevilla                   12   \n",
       "1                       2         Espanyol                   19   \n",
       "2                       0       Villarreal                    5   \n",
       "3                       0   Rayo Vallecano                   11   \n",
       "4                       0    Real Sociedad                    4   \n",
       "\n",
       "   Goles_del_Equipo_Visitante Resultado_Local Resultado_Visitante  \n",
       "0                           1          Ganado             Perdido  \n",
       "1                           2          Empate              Empate  \n",
       "2                           3         Perdido              Ganado  \n",
       "3                           0          Empate              Empate  \n",
       "4                           1         Perdido              Ganado  "
      ]
     },
     "execution_count": 8,
     "metadata": {},
     "output_type": "execute_result"
    }
   ],
   "source": [
    "resultados.head()"
   ]
  },
  {
   "cell_type": "code",
   "execution_count": null,
   "id": "58e8aefa",
   "metadata": {},
   "outputs": [],
   "source": []
  }
 ],
 "metadata": {
  "kernelspec": {
   "display_name": "Python 3 (ipykernel)",
   "language": "python",
   "name": "python3"
  },
  "language_info": {
   "codemirror_mode": {
    "name": "ipython",
    "version": 3
   },
   "file_extension": ".py",
   "mimetype": "text/x-python",
   "name": "python",
   "nbconvert_exporter": "python",
   "pygments_lexer": "ipython3",
   "version": "3.11.5"
  }
 },
 "nbformat": 4,
 "nbformat_minor": 5
}
