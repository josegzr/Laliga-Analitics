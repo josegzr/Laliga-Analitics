{
 "cells": [
  {
   "cell_type": "code",
   "execution_count": 1,
   "id": "83ebd72f",
   "metadata": {},
   "outputs": [],
   "source": [
    "import pandas as pd"
   ]
  },
  {
   "cell_type": "code",
   "execution_count": 10,
   "id": "250463d0",
   "metadata": {},
   "outputs": [],
   "source": [
    "resultados = pd.read_csv('../datos/resultados.csv')"
   ]
  },
  {
   "cell_type": "code",
   "execution_count": 8,
   "id": "f8ffb1a3",
   "metadata": {},
   "outputs": [],
   "source": [
    "jugadores = pd.read_csv('../datos/jugadores.csv')"
   ]
  },
  {
   "cell_type": "code",
   "execution_count": 9,
   "id": "8db1a04c",
   "metadata": {},
   "outputs": [],
   "source": [
    "clasificacion=pd.read_csv('../datos/clasificacion.csv')"
   ]
  },
  {
   "cell_type": "code",
   "execution_count": null,
   "id": "72bc8385",
   "metadata": {},
   "outputs": [],
   "source": []
  }
 ],
 "metadata": {
  "kernelspec": {
   "display_name": "Python 3 (ipykernel)",
   "language": "python",
   "name": "python3"
  },
  "language_info": {
   "codemirror_mode": {
    "name": "ipython",
    "version": 3
   },
   "file_extension": ".py",
   "mimetype": "text/x-python",
   "name": "python",
   "nbconvert_exporter": "python",
   "pygments_lexer": "ipython3",
   "version": "3.11.5"
  }
 },
 "nbformat": 4,
 "nbformat_minor": 5
}
